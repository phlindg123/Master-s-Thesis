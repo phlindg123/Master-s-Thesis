{
 "cells": [
  {
   "cell_type": "code",
   "execution_count": null,
   "metadata": {},
   "outputs": [
    {
     "evalue": "Error: Jupyter notebook failed to launch. \r\nError: The Jupyter notebook server failed to launch in time",
     "output_type": "error"
    }
   ],
   "source": [
    "from data.data_handler import Data\n",
    "from models.simple import Simple\n",
    "import torch\n",
    "import numpy as np\n",
    "import pandas as pd\n",
    "import matplotlib.pyplot as plt\n",
    "import seaborn as sns\n",
    "sns.set_style(\"whitegrid\")"
   ]
  },
  {
   "cell_type": "code",
   "execution_count": null,
   "metadata": {},
   "outputs": [
    {
     "evalue": "Error: Jupyter notebook failed to launch. \r\nError: The Jupyter notebook server failed to launch in time",
     "output_type": "error"
    }
   ],
   "source": [
    "data_dir = \"data/\"\n",
    "stocks = pd.read_csv(data_dir + \"ex_aktier.csv\")\n",
    "# rates = pd.read_csv(data_dir + \"rates_philip.csv\", sep=\";\", decimal=\",\", index_col = 0, parse_dates=True)\n",
    "# cmdty = pd.read_csv(data_dir + \"cmdty_philip.csv\", sep=\";\", decimal=\",\", index_col = 0, parse_dates=True)\n",
    "# index = pd.read_csv(data_dir + \"index.csv\", index_col =0, parse_dates = True)\n",
    "# Y = rates.join(cmdty).join(index)\n",
    "stocks = stocks.pivot(index=\"Date\", columns = \"Isin\", values=\"Close\")\n",
    "stocks.index = pd.to_datetime(stocks.index)\n",
    "stocks = stocks.resample(\"W-Fri\").first()\n",
    "X = stocks.pct_change().dropna(how=\"all\")\n",
    "X[X == 0.0] = np.nan\n",
    "mu = X.mean()\n",
    "std = X.std()\n",
    "X = X.sub(mu, axis=1).div(std, axis=1)"
   ]
  },
  {
   "cell_type": "code",
   "execution_count": null,
   "metadata": {},
   "outputs": [],
   "source": []
  }
 ],
 "metadata": {
  "file_extension": ".py",
  "kernelspec": {
   "display_name": "Python 3",
   "language": "python",
   "name": "python3"
  },
  "language_info": {
   "codemirror_mode": {
    "name": "ipython",
    "version": 3
   },
   "file_extension": ".py",
   "mimetype": "text/x-python",
   "name": "python",
   "nbconvert_exporter": "python",
   "pygments_lexer": "ipython3",
   "version": "3.7.1"
  },
  "mimetype": "text/x-python",
  "name": "python",
  "npconvert_exporter": "python",
  "pygments_lexer": "ipython3",
  "version": 3
 },
 "nbformat": 4,
 "nbformat_minor": 2
}
