{
 "cells": [
  {
   "cell_type": "code",
   "execution_count": 27,
   "metadata": {},
   "outputs": [],
   "source": [
    "import pandas as pd\n",
    "import numpy as np\n",
    "import matplotlib.pyplot as plt"
   ]
  },
  {
   "cell_type": "code",
   "execution_count": 248,
   "metadata": {},
   "outputs": [],
   "source": [
    "# funda = pd.read_csv(data_dir + \"2018_Financial_Data.csv\", index_col = 0)\n",
    "# for c in funda.columns: print(c)\n",
    "# growth = [\"Gross Profit Growth\", \"EBIT Growth\", \"EPS Growth\", \"Dividends per Share Growth\", \"Free Cash Flow growth\",\n",
    "#          \"Debt Growth\", \"Asset Growth\", \"Revenue Growth\"]\n",
    "# val = [\"PE ratio\", \"Price to Sales Ratio\", \"PB ratio\", \"EV to Sales\", \"Enterprise Value over EBITDA\", \n",
    "#       \"EV to Free cash flow\", \"Earnings Yield\", \"Free Cash Flow Yield\", \"Dividend Yield\", \"Payout Ratio\"]\n",
    "# debt = [\"Debt to Equity\", \"Net Debt to EBITDA\", \"Current ratio\", \"Interest Coverage\"]\n",
    "# qual = [\"ROIC\", \"ROE\", \"Income Quality\", \"netProfitMargin\", \"Capex to Revenue\"]\n",
    "\n",
    "\n",
    "# data = funda[[\"Sector\"] + growth + val + debt + qual].dropna()\n",
    "\n",
    "# def bygrp(grp):\n",
    "#     g = grp\n",
    "#     for c in g.columns.difference([\"Sector\"]):\n",
    "#         mean = g[c].mean()\n",
    "#         g[c] = g[c].fillna(mean)\n",
    "#     return g\n",
    "# data = data.groupby(\"Sector\").apply(bygrp)\n",
    "# secs = data[[\"Sector\"]]\n",
    "# data.drop(\"Sector\", axis=1, inplace=True)\n",
    "# ranks = data.rank()\n",
    "# stand = ranks.sub(ranks.mean(), axis=1).div(ranks.std(), axis=1)\n",
    "# secs.to_csv(data_dir + \"secs.csv\")\n",
    "# stand.to_csv(data_dir + \"funda.csv\")"
   ]
  },
  {
   "cell_type": "code",
   "execution_count": 249,
   "metadata": {},
   "outputs": [
    {
     "data": {
      "text/plain": [
       "((5208,), (5208, 2975))"
      ]
     },
     "execution_count": 249,
     "metadata": {},
     "output_type": "execute_result"
    }
   ],
   "source": [
    "data_dir = \"C:/Users/Phili/Documents/exjobb/data/\"\n",
    "stocks = pd.read_csv(data_dir + \"ex_aktier.csv\")\n",
    "df = stocks.set_index(\"Date\")\n",
    "df.index = pd.to_datetime(df.index)\n",
    "df = df.loc[\"1999-12-31\":\"2020-03-31\"]\n",
    "df = df.set_index([df.index, \"Isin\"]).unstack()[\"Close\"].pct_change()[1:]\n",
    "df[df == 0.0] = np.nan\n",
    "mu = df.mean()\n",
    "std = df.std()\n",
    "rates = pd.read_csv(data_dir + \"rates_philip.csv\", sep=\";\", decimal=\",\", index_col = 0, parse_dates=True)\n",
    "cmdty = pd.read_csv(data_dir + \"cmdty_philip.csv\", sep=\";\", decimal=\",\", index_col = 0, parse_dates=True)\n",
    "index = pd.read_csv(data_dir + \"index.csv\", index_col =0, parse_dates = True)\n",
    "Y = rates.join(cmdty).join(index)\n",
    "Y = Y.reindex(df.index).fillna(method=\"pad\")[\"OMX\"]\n",
    "Y.shape, df.shape"
   ]
  },
  {
   "cell_type": "code",
   "execution_count": 251,
   "metadata": {},
   "outputs": [
    {
     "data": {
      "text/html": [
       "<div>\n",
       "<style scoped>\n",
       "    .dataframe tbody tr th:only-of-type {\n",
       "        vertical-align: middle;\n",
       "    }\n",
       "\n",
       "    .dataframe tbody tr th {\n",
       "        vertical-align: top;\n",
       "    }\n",
       "\n",
       "    .dataframe thead th {\n",
       "        text-align: right;\n",
       "    }\n",
       "</style>\n",
       "<table border=\"1\" class=\"dataframe\">\n",
       "  <thead>\n",
       "    <tr style=\"text-align: right;\">\n",
       "      <th></th>\n",
       "      <th>Isin</th>\n",
       "      <th>Date</th>\n",
       "      <th>Close</th>\n",
       "    </tr>\n",
       "  </thead>\n",
       "  <tbody>\n",
       "    <tr>\n",
       "      <th>0</th>\n",
       "      <td>DK0000008960</td>\n",
       "      <td>1973-01-01 00:00:00.000</td>\n",
       "      <td>94.416266</td>\n",
       "    </tr>\n",
       "    <tr>\n",
       "      <th>1</th>\n",
       "      <td>DK0010001601</td>\n",
       "      <td>1973-01-01 00:00:00.000</td>\n",
       "      <td>119.696768</td>\n",
       "    </tr>\n",
       "    <tr>\n",
       "      <th>2</th>\n",
       "      <td>DK0010004035</td>\n",
       "      <td>1973-01-01 00:00:00.000</td>\n",
       "      <td>35.034607</td>\n",
       "    </tr>\n",
       "    <tr>\n",
       "      <th>3</th>\n",
       "      <td>DK0010006162</td>\n",
       "      <td>1973-01-01 00:00:00.000</td>\n",
       "      <td>153.405604</td>\n",
       "    </tr>\n",
       "    <tr>\n",
       "      <th>4</th>\n",
       "      <td>DK0010009505</td>\n",
       "      <td>1973-01-01 00:00:00.000</td>\n",
       "      <td>167.991040</td>\n",
       "    </tr>\n",
       "    <tr>\n",
       "      <th>...</th>\n",
       "      <td>...</td>\n",
       "      <td>...</td>\n",
       "      <td>...</td>\n",
       "    </tr>\n",
       "    <tr>\n",
       "      <th>6550780</th>\n",
       "      <td>SE0013720018</td>\n",
       "      <td>2020-04-02 00:00:00.000</td>\n",
       "      <td>63.000000</td>\n",
       "    </tr>\n",
       "    <tr>\n",
       "      <th>6550781</th>\n",
       "      <td>SE0013747870</td>\n",
       "      <td>2020-04-02 00:00:00.000</td>\n",
       "      <td>25.550004</td>\n",
       "    </tr>\n",
       "    <tr>\n",
       "      <th>6550782</th>\n",
       "      <td>SE0013748001</td>\n",
       "      <td>2020-04-02 00:00:00.000</td>\n",
       "      <td>4.500000</td>\n",
       "    </tr>\n",
       "    <tr>\n",
       "      <th>6550783</th>\n",
       "      <td>SE0013914249</td>\n",
       "      <td>2020-04-02 00:00:00.000</td>\n",
       "      <td>13.180001</td>\n",
       "    </tr>\n",
       "    <tr>\n",
       "      <th>6550784</th>\n",
       "      <td>DK0061277894</td>\n",
       "      <td>2020-04-03 00:00:00.000</td>\n",
       "      <td>1699.999800</td>\n",
       "    </tr>\n",
       "  </tbody>\n",
       "</table>\n",
       "<p>6550785 rows × 3 columns</p>\n",
       "</div>"
      ],
      "text/plain": [
       "                 Isin                     Date        Close\n",
       "0        DK0000008960  1973-01-01 00:00:00.000    94.416266\n",
       "1        DK0010001601  1973-01-01 00:00:00.000   119.696768\n",
       "2        DK0010004035  1973-01-01 00:00:00.000    35.034607\n",
       "3        DK0010006162  1973-01-01 00:00:00.000   153.405604\n",
       "4        DK0010009505  1973-01-01 00:00:00.000   167.991040\n",
       "...               ...                      ...          ...\n",
       "6550780  SE0013720018  2020-04-02 00:00:00.000    63.000000\n",
       "6550781  SE0013747870  2020-04-02 00:00:00.000    25.550004\n",
       "6550782  SE0013748001  2020-04-02 00:00:00.000     4.500000\n",
       "6550783  SE0013914249  2020-04-02 00:00:00.000    13.180001\n",
       "6550784  DK0061277894  2020-04-03 00:00:00.000  1699.999800\n",
       "\n",
       "[6550785 rows x 3 columns]"
      ]
     },
     "execution_count": 251,
     "metadata": {},
     "output_type": "execute_result"
    }
   ],
   "source": [
    "stocks"
   ]
  },
  {
   "cell_type": "code",
   "execution_count": 235,
   "metadata": {},
   "outputs": [],
   "source": []
  },
  {
   "cell_type": "code",
   "execution_count": 236,
   "metadata": {},
   "outputs": [],
   "source": []
  },
  {
   "cell_type": "code",
   "execution_count": 237,
   "metadata": {},
   "outputs": [],
   "source": []
  },
  {
   "cell_type": "code",
   "execution_count": 239,
   "metadata": {},
   "outputs": [
    {
     "data": {
      "text/plain": [
       "(2595, 27)"
      ]
     },
     "execution_count": 239,
     "metadata": {},
     "output_type": "execute_result"
    }
   ],
   "source": []
  },
  {
   "cell_type": "code",
   "execution_count": 238,
   "metadata": {},
   "outputs": [],
   "source": []
  },
  {
   "cell_type": "code",
   "execution_count": 61,
   "metadata": {},
   "outputs": [
    {
     "data": {
      "text/plain": [
       "((19425, 1), (19425, 252), (19425, 1))"
      ]
     },
     "execution_count": 61,
     "metadata": {},
     "output_type": "execute_result"
    }
   ],
   "source": [
    "T = 252\n",
    "n_x = 1\n",
    "\n",
    "\n",
    "X = []\n",
    "y = []\n",
    "t_list = []\n",
    "t_dict = {}\n",
    "steps = len(df) // T\n",
    "windows = 100\n",
    "\n",
    "def make_one_hot(labels, C = 5):\n",
    "    y = torch.eye(C) \n",
    "    return y[labels.long()].squeeze(1)\n",
    "\n",
    "def calc_y(y):\n",
    "    ret = y.iloc[-1]/y.iloc[0] - 1\n",
    "    std = y.pct_change().std()*np.sqrt(252)\n",
    "    #print(ret, std)\n",
    "    if ret > 0.12:\n",
    "        return 0\n",
    "    elif ret <= 0.12 and ret > 0.03:\n",
    "        return 1\n",
    "    elif ret <= 0.03 and ret > -0.03:\n",
    "        return 2\n",
    "    elif ret <= -0.03 and ret > -0.12:\n",
    "        return 3\n",
    "    elif ret <= -0.12:\n",
    "        return 4\n",
    "#     if ret > 0:\n",
    "#         return 0\n",
    "#     else:\n",
    "#         return 1\n",
    "\n",
    "for t in range(steps-1):\n",
    "    df_t = df.iloc[t*T:(t+1)*T].dropna(axis=1, thresh = 55).fillna(0.0).clip(-0.5,0.5)\n",
    "    y_t = Y.iloc[t*T:(t+1)*T]\n",
    "    y_t = calc_y(y_t)\n",
    "    #y_t = y_t.iloc[-1] / y_t.iloc[0] - 1\n",
    "    #calc_y(y_t)\n",
    "    #df_t = df_t.sub(df_t.mean(), axis=1).div(df_t.std(), axis=1).dropna(axis=1)\n",
    "    df_t = (1.0 + df_t).cumprod()\n",
    "    t_dict[t] = (df_t.index[0], df_t.index[-1])\n",
    "    if df_t.shape[1] < n_x:\n",
    "        continue\n",
    "#     for _ in range(windows):\n",
    "#         t_list.append([t])\n",
    "#         i = np.random.choice(np.arange(df_t.shape[1]), n_x, replace=False)\n",
    "#         df_t_i = df_t.iloc[:,i]\n",
    "#         #df_t_i = df_t_i.sub(df_t_i.mean(), axis=1).div(df_t_i.std(), axis=1)\n",
    "#         X.append(df_t_i.values.reshape(-1,1).squeeze())\n",
    "#         #y.append(y_t.values.reshape(-1,1).squeeze())\n",
    "#         y.append([y_t])\n",
    "    for _ in range(df_t.shape[1]):\n",
    "        t_list.append([t])\n",
    "        y.append([y_t])\n",
    "        X.append(df_t.iloc[:,_].values.reshape(-1,1).squeeze())\n",
    "    \n",
    "    \n",
    "\n",
    "X = np.array(X)\n",
    "y = np.array(y)\n",
    "t_arr = np.array(t_list)\n",
    "y.shape, X.shape, t_arr.shape"
   ]
  },
  {
   "cell_type": "code",
   "execution_count": 62,
   "metadata": {},
   "outputs": [
    {
     "data": {
      "text/html": [
       "<div>\n",
       "<style scoped>\n",
       "    .dataframe tbody tr th:only-of-type {\n",
       "        vertical-align: middle;\n",
       "    }\n",
       "\n",
       "    .dataframe tbody tr th {\n",
       "        vertical-align: top;\n",
       "    }\n",
       "\n",
       "    .dataframe thead th {\n",
       "        text-align: right;\n",
       "    }\n",
       "</style>\n",
       "<table border=\"1\" class=\"dataframe\">\n",
       "  <thead>\n",
       "    <tr style=\"text-align: right;\">\n",
       "      <th></th>\n",
       "      <th>t</th>\n",
       "      <th>date</th>\n",
       "    </tr>\n",
       "  </thead>\n",
       "  <tbody>\n",
       "    <tr>\n",
       "      <th>0</th>\n",
       "      <td>0</td>\n",
       "      <td>2000-01-04</td>\n",
       "    </tr>\n",
       "    <tr>\n",
       "      <th>1</th>\n",
       "      <td>0</td>\n",
       "      <td>2000-01-04</td>\n",
       "    </tr>\n",
       "    <tr>\n",
       "      <th>2</th>\n",
       "      <td>0</td>\n",
       "      <td>2000-01-04</td>\n",
       "    </tr>\n",
       "    <tr>\n",
       "      <th>3</th>\n",
       "      <td>0</td>\n",
       "      <td>2000-01-04</td>\n",
       "    </tr>\n",
       "    <tr>\n",
       "      <th>4</th>\n",
       "      <td>0</td>\n",
       "      <td>2000-01-04</td>\n",
       "    </tr>\n",
       "    <tr>\n",
       "      <th>...</th>\n",
       "      <td>...</td>\n",
       "      <td>...</td>\n",
       "    </tr>\n",
       "    <tr>\n",
       "      <th>19420</th>\n",
       "      <td>18</td>\n",
       "      <td>2017-08-08</td>\n",
       "    </tr>\n",
       "    <tr>\n",
       "      <th>19421</th>\n",
       "      <td>18</td>\n",
       "      <td>2017-08-08</td>\n",
       "    </tr>\n",
       "    <tr>\n",
       "      <th>19422</th>\n",
       "      <td>18</td>\n",
       "      <td>2017-08-08</td>\n",
       "    </tr>\n",
       "    <tr>\n",
       "      <th>19423</th>\n",
       "      <td>18</td>\n",
       "      <td>2017-08-08</td>\n",
       "    </tr>\n",
       "    <tr>\n",
       "      <th>19424</th>\n",
       "      <td>18</td>\n",
       "      <td>2017-08-08</td>\n",
       "    </tr>\n",
       "  </tbody>\n",
       "</table>\n",
       "<p>19425 rows × 2 columns</p>\n",
       "</div>"
      ],
      "text/plain": [
       "        t       date\n",
       "0       0 2000-01-04\n",
       "1       0 2000-01-04\n",
       "2       0 2000-01-04\n",
       "3       0 2000-01-04\n",
       "4       0 2000-01-04\n",
       "...    ..        ...\n",
       "19420  18 2017-08-08\n",
       "19421  18 2017-08-08\n",
       "19422  18 2017-08-08\n",
       "19423  18 2017-08-08\n",
       "19424  18 2017-08-08\n",
       "\n",
       "[19425 rows x 2 columns]"
      ]
     },
     "execution_count": 62,
     "metadata": {},
     "output_type": "execute_result"
    }
   ],
   "source": [
    "X = pd.DataFrame(X)\n",
    "y = pd.DataFrame(y)\n",
    "t = pd.DataFrame(t_arr, columns= [\"t\"])\n",
    "t[\"date\"] = [t_dict[i][0] for i in t.t]\n",
    "t"
   ]
  },
  {
   "cell_type": "code",
   "execution_count": 63,
   "metadata": {},
   "outputs": [
    {
     "data": {
      "text/plain": [
       "0.00010045242572063329"
      ]
     },
     "execution_count": 63,
     "metadata": {},
     "output_type": "execute_result"
    }
   ],
   "source": [
    "X.min().min()"
   ]
  },
  {
   "cell_type": "code",
   "execution_count": 64,
   "metadata": {},
   "outputs": [],
   "source": [
    "X.to_csv(data_dir + \"stocks_curves.csv\", index=False)\n",
    "y.to_csv(data_dir + \"y.csv\", index=False)\n",
    "t.to_csv(data_dir + \"t.csv\", index=False)"
   ]
  },
  {
   "cell_type": "code",
   "execution_count": 65,
   "metadata": {},
   "outputs": [
    {
     "data": {
      "text/plain": [
       "(19425, 252)"
      ]
     },
     "execution_count": 65,
     "metadata": {},
     "output_type": "execute_result"
    }
   ],
   "source": [
    "X.shape"
   ]
  },
  {
   "cell_type": "code",
   "execution_count": 244,
   "metadata": {},
   "outputs": [],
   "source": [
    "df = pd.read_csv(data_dir + \"hist_ex.csv\")\n",
    "X = df.pivot(index=\"Date\", columns = \"Isin\", values = \"Close\")"
   ]
  },
  {
   "cell_type": "code",
   "execution_count": 247,
   "metadata": {},
   "outputs": [
    {
     "data": {
      "text/plain": [
       "<matplotlib.axes._subplots.AxesSubplot at 0x16b0297f978>"
      ]
     },
     "execution_count": 247,
     "metadata": {},
     "output_type": "execute_result"
    },
    {
     "data": {
      "image/png": "[encoded data removed]",
      "text/plain": [
       "<Figure size 1080x720 with 1 Axes>"
      ]
     },
     "metadata": {
      "needs_background": "light"
     },
     "output_type": "display_data"
    }
   ],
   "source": [
    "X.count(axis=1).plot(legend=False, figsize=(15,10))"
   ]
  }
 ],
 "metadata": {
  "kernelspec": {
   "display_name": "Python 3",
   "language": "python",
   "name": "python3"
  },
  "language_info": {
   "codemirror_mode": {
    "name": "ipython",
    "version": 3
   },
   "file_extension": ".py",
   "mimetype": "text/x-python",
   "name": "python",
   "nbconvert_exporter": "python",
   "pygments_lexer": "ipython3",
   "version": "3.7.3"
  }
 },
 "nbformat": 4,
 "nbformat_minor": 2
}
