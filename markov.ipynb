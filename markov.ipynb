{
 "cells": [
  {
   "cell_type": "code",
   "execution_count": 39,
   "metadata": {},
   "outputs": [],
   "source": [
    "import torch\n",
    "import torch.nn as nn\n",
    "from sklearn.preprocessing import StandardScaler\n",
    "from sklearn.model_selection import train_test_split\n",
    "import pandas as pd\n",
    "import numpy as np\n",
    "from data.data_handler import SimpleDataset\n",
    "from trainer import Trainer\n",
    "from models.layers import MVN, Latent, ST, Normal\n",
    "import matplotlib.pyplot as plt\n",
    "import seaborn as sns\n",
    "from torch.autograd import Variable\n",
    "sns.set_style(\"whitegrid\")\n",
    "from torch.utils.data import Dataset, DataLoader"
   ]
  },
  {
   "cell_type": "code",
   "execution_count": 5,
   "metadata": {},
   "outputs": [
    {
     "data": {
      "text/plain": [
       "device(type='cpu')"
      ]
     },
     "execution_count": 5,
     "metadata": {},
     "output_type": "execute_result"
    }
   ],
   "source": [
    "use_cuda =False# torch.cuda.is_available()\n",
    "device = torch.device(\"cuda\" if use_cuda else \"cpu\")\n",
    "device"
   ]
  },
  {
   "cell_type": "code",
   "execution_count": 6,
   "metadata": {},
   "outputs": [],
   "source": [
    "data_dir = \"data/\"\n",
    "stocks = pd.read_csv(data_dir + \"ex_aktier.csv\")\n",
    "df = stocks.copy().set_index(\"Date\")\n",
    "df.index = pd.to_datetime(df.index)\n",
    "df = df.loc[\"1999-12-31\":\"2020-03-31\"]\n",
    "df = df.set_index([df.index, \"Isin\"]).unstack()[\"Close\"].pct_change()[1:]\n",
    "df[df == 0.0] = np.nan"
   ]
  },
  {
   "cell_type": "code",
   "execution_count": 37,
   "metadata": {},
   "outputs": [
    {
     "data": {
      "text/plain": [
       "<matplotlib.axes._subplots.AxesSubplot at 0x16783e55668>"
      ]
     },
     "execution_count": 37,
     "metadata": {},
     "output_type": "execute_result"
    },
    {
     "data": {
      "image/png": "[encoded data removed]",
      "text/plain": [
       "<Figure size 432x288 with 1 Axes>"
      ]
     },
     "metadata": {},
     "output_type": "display_data"
    }
   ],
   "source": [
    "stocks.set_index([\"Date\", \"Isin\"]).unstack()[\"Close\"].count(axis=1).plot()"
   ]
  },
  {
   "cell_type": "code",
   "execution_count": 7,
   "metadata": {},
   "outputs": [
    {
     "data": {
      "text/plain": [
       "((8400, 610), (8400, 1))"
      ]
     },
     "execution_count": 7,
     "metadata": {},
     "output_type": "execute_result"
    }
   ],
   "source": [
    "T = 61\n",
    "n_x = 10\n",
    "\n",
    "scaler = StandardScaler()\n",
    "\n",
    "X = []\n",
    "y = []\n",
    "t_list = []\n",
    "t_dict = {}\n",
    "steps = len(df) // T\n",
    "windows = 100\n",
    "\n",
    "def make_one_hot(labels, C = 5):\n",
    "    y = torch.eye(C) \n",
    "    return y[labels.long()].squeeze(1)\n",
    "\n",
    "def calc_y(y):\n",
    "    ret = y.iloc[-1]/y.iloc[0] - 1\n",
    "    std = y.pct_change().std()*np.sqrt(252)\n",
    "    #print(ret, std)\n",
    "    if ret > 0.15:\n",
    "        return 0\n",
    "    elif ret <= 0.15 and ret > 0.05:\n",
    "        return 1\n",
    "    elif ret <= 0.05 and ret > -0.05:\n",
    "        return 2\n",
    "    elif ret <= -0.05 and ret > -0.15:\n",
    "        return 3\n",
    "    elif ret <= -0.15:\n",
    "        return 4\n",
    "\n",
    "for t in range(steps-1):\n",
    "    df_t = df.iloc[t*T:(t+1)*T].dropna(axis=1, thresh = 55).fillna(0.0)\n",
    "    t_dict[t] = (df_t.index[0], df_t.index[-1])\n",
    "    if df_t.shape[1] < n_x:\n",
    "        continue\n",
    "    for _ in range(windows):\n",
    "        t_list.append([t])\n",
    "        i = np.random.choice(np.arange(df_t.shape[1]), n_x, replace=False)\n",
    "        df_t_i = df_t.iloc[:,i]\n",
    "        X.append(df_t_i.values.reshape(-1,1).squeeze())\n",
    "    \n",
    "    \n",
    "\n",
    "X = np.array(X)\n",
    "\n",
    "t_arr = np.array(t_list)\n",
    "X.shape, t_arr.shape"
   ]
  },
  {
   "cell_type": "code",
   "execution_count": 48,
   "metadata": {},
   "outputs": [],
   "source": [
    "\n",
    "X_train, X_test, t_train, t_test = train_test_split(X, t_arr, test_size = 0.2, random_state = 42)\n",
    "\n",
    "X_scaler = StandardScaler()\n",
    "X_train = X_scaler.fit_transform(X_train)\n",
    "X_test = X_scaler.transform(X_test)\n",
    "#y_scaler = StandardScaler()\n",
    "#y_train  = y_scaler.fit_transform(y_train)\n",
    "#y_test = y_scaler.transform(y_test)"
   ]
  },
  {
   "cell_type": "code",
   "execution_count": 56,
   "metadata": {},
   "outputs": [],
   "source": [
    "class Markov(nn.Module):\n",
    "    def __init__(self, steps, windows, T, n_x, n_z, batch_size):\n",
    "        super().__init__()\n",
    "        self.steps = steps\n",
    "        self.windows = windows\n",
    "        self.T = T\n",
    "        self.n_x = n_x\n",
    "        self.n_z = n_z\n",
    "        self.batch_size = batch_size\n",
    "        \n",
    "        self.enc = nn.Sequential(\n",
    "            Latent(T*n_x + n_z, n_z)\n",
    "        )\n",
    "        self.dec = nn.Sequential(\n",
    "            Normal(n_z, T*n_x)\n",
    "        )\n",
    "        self.prior = nn.Sequential(\n",
    "            Latent(n_z, n_z)\n",
    "        )\n",
    "        \n",
    "        \n",
    "    def _dkl_loss(self, prior_mean, prior_log_var, z_mean, z_log_var):\n",
    "        z_var = z_log_var.exp()\n",
    "        prior_var = prior_log_var.exp()\n",
    "        kld = torch.sum(prior_log_var - z_log_var + ((z_var + (z_mean - prior_mean).pow(2)) / (prior_var*2)) - 0.5, dim=1)\n",
    "        return kld\n",
    "    \n",
    "    def encode(self, x, z_prev):\n",
    "        z_t, mu, log_var = self.enc(torch.cat([x, z_prev], 1))\n",
    "        return z_t, mu, log_var\n",
    "    \n",
    "    def decode(self, z):\n",
    "        return self.dec(z)\n",
    "    \n",
    "    def forward(self, x, t, beta = 1.0):\n",
    "        z_prev = self.z[:,t-1,:]\n",
    "        prior, prior_mu, prior_log_var = self.prior(z_prev)\n",
    "        z_t, mu, log_var = self.encode(x, t)\n",
    "        self.z[:, t, :] = z_t\n",
    "        dkl = self._dkl_loss(prior_mu, prior_log_var, mu, log_var)\n",
    "        dist = self.decode(z_t)\n",
    "        rcl = -dist.log_var(x).sum(dim=1)\n",
    "        return dist, torch.mean(rcl + beta*dkl)\n",
    "    \n",
    "    def fit(self, epochs, train_data, test_data):\n",
    "        bs = train_data.batch_size\n",
    "        "
   ]
  },
  {
   "cell_type": "code",
   "execution_count": 57,
   "metadata": {},
   "outputs": [],
   "source": [
    "x = torch.randn(32, T*n_x)\n",
    "t = torch.Tensor([1]*32).unsqueeze(1)\n",
    "tau = 81\n",
    "bs = 32\n",
    "n_z = 2\n",
    "vae = Markov(steps, windows,T, n_x, n_z, bs)"
   ]
  },
  {
   "cell_type": "code",
   "execution_count": 58,
   "metadata": {},
   "outputs": [],
   "source": [
    "class MarkovData(Dataset):\n",
    "    def __init__(self, X, t, shuffle=True):\n",
    "        self.X = X\n",
    "        self.t = t\n",
    "        assert len(X) == len(t)\n",
    "        self.batch_size = 32\n",
    "        self.loader = DataLoader(self, batch_size=self.batch_size, shuffle=shuffle)\n",
    "    \n",
    "    def __len__(self):\n",
    "        return len(X)\n",
    "    \n",
    "    def __getitem__(self, idx):\n",
    "        if torch.is_tensor(idx):\n",
    "            idx = idx.tolist()\n",
    "        return self.X[idx].float(), self.t[idx].float(), idx"
   ]
  },
  {
   "cell_type": "code",
   "execution_count": 49,
   "metadata": {},
   "outputs": [],
   "source": [
    "train_data = MarkovData(X_train, t_train)\n",
    "test_data = MarkovData(X_test, t_test)"
   ]
  },
  {
   "cell_type": "code",
   "execution_count": null,
   "metadata": {},
   "outputs": [],
   "source": []
  }
 ],
 "metadata": {
  "kernelspec": {
   "display_name": "Python 3",
   "language": "python",
   "name": "python3"
  },
  "language_info": {
   "codemirror_mode": {
    "name": "ipython",
    "version": 3
   },
   "file_extension": ".py",
   "mimetype": "text/x-python",
   "name": "python",
   "nbconvert_exporter": "python",
   "pygments_lexer": "ipython3",
   "version": "3.7.3"
  }
 },
 "nbformat": 4,
 "nbformat_minor": 2
}
